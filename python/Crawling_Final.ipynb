{
 "cells": [
  {
   "cell_type": "code",
   "execution_count": 2,
   "metadata": {},
   "outputs": [
    {
     "name": "stdout",
     "output_type": "stream",
     "text": [
      "KT, MS 투인원 랩톱 '서피스 프로9 5G' 단독 출시\n",
      "NIO, 차량가격 인하 및 배터리스왑 옵션으로 분리\n",
      "삼성전자, 게이밍 모니터 ‘오디세이 OLED G9’ 출시\n",
      "'애플, M3 15인치 맥북에어 개발…내년 출시'\n",
      "ChatGPT의 독일 교회 설교에 300명이 참석\n",
      "엑스박스 시리즈 S 1TB 모델 발표, 349달러\n",
      "애플,아이폰을 반려동물 추적 카메라로 바꾸고 싶어해\n",
      "애플, 개발자가 Windows 게임을 Mac으로 이식하는 데 도움이 되는 도구 출시\n",
      "M2 울트라,벤치마크에서 M1 울트라에 비해 성능이 향상된 것으로 나타나\n",
      "애플 비전 프로 개발자 키트 애플리케이션 7월에 출시될 예정\n",
      "ChatGPT는 25개 농담만 할 수 있고, 새 농담을 생각해낼 수 없다는 연구 결과\n",
      "미국 비밀번호 공유 단속이 시작되자 넷플릭스 구독자 수 증가\n",
      "인텔, 개발자용 폰트 Intel One Mono 오픈 소스로 공개\n",
      "‘블루투스 실명제’ 도입한다는 중국\n",
      "빙 챗, 데스크탑 엣지 브라우저에서 음성으로 질문 지원 (한국어 아직 미지원)\n",
      "EV충전업체 3곳 테슬라충전규격 지원 발표\n",
      "Apple Vision Pro: 3800x3000 픽셀 및 90/96Hz의 마이크로 OLED – 패러다임 전환\n",
      "개인정보 문제로 10년 이상 업데이트 중단된 독일 구글 스트리트 뷰 복귀\n",
      "구글 비밀번호 관리자, 데스크탑용에 생체 인증 추가 예고\n",
      "데스크탑 GPU 판매량 10년만에 최저치 기록\n",
      "샘 올트먼 '한국에 오픈AI 사무소 열고 싶어…파트너십 지원'\n",
      "레딧 서드파티 앱 Apollo 등 여러 앱 서비스 종료 / 12일 레딧 상대로 단체 항의 예정\n",
      "삼성, 챗GPT 대항마 개발 나섰다\n",
      "GM, 포드에 이어 테슬라 충전규격 도입\n",
      "테슬라, 사이버트럭 연37만5천대분 부품 발주\n",
      "구글 바드, 프로그래밍 능력 향상 업데이트 공지\n",
      "Apple Developer 사이트 내 'tmoney' Payment networks Beta 추가\n",
      "워드프레스가 블로그 글을 대신 써 주는 AI 도구 발표\n",
      "[약후] 일본 첫 AI 그라비아 사진집, '검토가 부족했다'면서 7일 판매 종료\n",
      "ChatGPT iOS용 앱, 아이패드와 단축어 통합 지원 추가\n"
     ]
    }
   ],
   "source": [
    "#1 타이틀 출력\n",
    "\n",
    "import requests\n",
    "from bs4 import BeautifulSoup\n",
    "\n",
    "res = requests.get('https://davelee-fun.github.io/trial/board/news.html')\n",
    "soup = BeautifulSoup(res.content, 'html.parser')\n",
    "\n",
    "items = soup.select('div.list_item')\n",
    "for item in items:\n",
    "    title = item.select_one('span.subject_fixed')\n",
    "    if title != None:\n",
    "        print(title.get_text().strip())"
   ]
  },
  {
   "cell_type": "code",
   "execution_count": null,
   "metadata": {},
   "outputs": [],
   "source": []
  },
  {
   "cell_type": "code",
   "execution_count": null,
   "metadata": {},
   "outputs": [],
   "source": []
  },
  {
   "cell_type": "code",
   "execution_count": null,
   "metadata": {},
   "outputs": [],
   "source": []
  },
  {
   "cell_type": "code",
   "execution_count": null,
   "metadata": {},
   "outputs": [],
   "source": []
  },
  {
   "cell_type": "code",
   "execution_count": null,
   "metadata": {},
   "outputs": [],
   "source": []
  },
  {
   "cell_type": "code",
   "execution_count": null,
   "metadata": {},
   "outputs": [],
   "source": []
  },
  {
   "cell_type": "code",
   "execution_count": null,
   "metadata": {},
   "outputs": [],
   "source": []
  }
 ],
 "metadata": {
  "kernelspec": {
   "display_name": "base",
   "language": "python",
   "name": "python3"
  },
  "language_info": {
   "codemirror_mode": {
    "name": "ipython",
    "version": 3
   },
   "file_extension": ".py",
   "mimetype": "text/x-python",
   "name": "python",
   "nbconvert_exporter": "python",
   "pygments_lexer": "ipython3",
   "version": "3.9.19"
  }
 },
 "nbformat": 4,
 "nbformat_minor": 2
}
